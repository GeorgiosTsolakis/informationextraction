{
 "cells": [
  {
   "cell_type": "code",
   "execution_count": 91,
   "metadata": {},
   "outputs": [],
   "source": [
    "import json\n",
    "from pprint import pprint\n",
    "import random\n",
    "import spacy"
   ]
  },
  {
   "cell_type": "code",
   "execution_count": 92,
   "metadata": {},
   "outputs": [],
   "source": [
    "# loads the training data\n",
    "train_file = open('training/json/agathemerus.json')\n",
    "data = json.load(train_file)"
   ]
  },
  {
   "cell_type": "code",
   "execution_count": 93,
   "metadata": {},
   "outputs": [
    {
     "name": "stdout",
     "output_type": "stream",
     "text": [
      "[{'id': 0,\n",
      "  'paragraphs': [{'sentences': [{'tokens': [{'ner': 'U-LOC',\n",
      "                                             'orth': 'Εὐρώπης',\n",
      "                                             'tag': '-'}]}]}]},\n",
      " {'id': 0,\n",
      "  'paragraphs': [{'sentences': [{'tokens': [{'ner': 'U-LOC',\n",
      "                                             'orth': 'Ἰόνιον',\n",
      "                                             'tag': '-'}]}]}]},\n",
      " {'id': 0,\n",
      "  'paragraphs': [{'sentences': [{'tokens': [{'ner': 'U-LOC',\n",
      "                                             'orth': 'Εὔβοια',\n",
      "                                             'tag': '-'}]}]}]}]\n"
     ]
    }
   ],
   "source": [
    "# randomises the data\n",
    "random.shuffle(data)\n",
    "pprint(data[:3])"
   ]
  },
  {
   "cell_type": "code",
   "execution_count": 94,
   "metadata": {},
   "outputs": [],
   "source": [
    "# splits the data into training and testing sets\n",
    "train_data = data[:1700]\n",
    "test_data = data[1700:]"
   ]
  },
  {
   "cell_type": "code",
   "execution_count": 95,
   "metadata": {},
   "outputs": [],
   "source": [
    "# creates a blank model of greek, it doesn't recognise the ancient greek code grc\n",
    "nlp = spacy.blank('el')\n",
    "ner = nlp.create_pipe('ner')\n",
    "nlp.add_pipe(ner)"
   ]
  },
  {
   "cell_type": "code",
   "execution_count": 96,
   "metadata": {},
   "outputs": [],
   "source": [
    "# adds the entity types we want to identify\n",
    "ner.add_label('U-LOC')\n",
    "ner.add_label('U-PER')"
   ]
  },
  {
   "cell_type": "code",
   "execution_count": 97,
   "metadata": {},
   "outputs": [
    {
     "name": "stdout",
     "output_type": "stream",
     "text": [
      "Warning: Unnamed vectors -- this won't allow multiple vectors models to be loaded. (Shape: (0, 0))\n"
     ]
    }
   ],
   "source": [
    "# initialises a pipeline for training\n",
    "optimizer = nlp.begin_training()"
   ]
  },
  {
   "cell_type": "code",
   "execution_count": 99,
   "metadata": {},
   "outputs": [
    {
     "name": "stdout",
     "output_type": "stream",
     "text": [
      "Iteration # 0\n",
      "Losses {'ner': 763.779519675833}\n",
      "Iteration # 1\n",
      "Losses {'ner': 600.2778975733311}\n",
      "Iteration # 2\n",
      "Losses {'ner': 424.4591039082176}\n"
     ]
    }
   ],
   "source": [
    "# trains the model\n",
    "for i in range(3):\n",
    "    print('Iteration #', i)\n",
    "    \n",
    "    random.shuffle(train_data)\n",
    "    losses = {}\n",
    "    \n",
    "    for item in train_data:\n",
    "        tokens = item['paragraphs'][0]['sentences'][0]['tokens'][0]\n",
    "        # print(tokens)\n",
    "        \n",
    "        texts = tokens['orth']\n",
    "        entity = tokens['ner']\n",
    "        \n",
    "        if entity == 'O':\n",
    "            annotations = {'entities': []}\n",
    "        else:\n",
    "            annotations = {'entities': [(0, len(texts), tokens['ner'])]}\n",
    "            \n",
    "        # print(texts, annotations)\n",
    "        \n",
    "        nlp.update([texts], [annotations], sgd=optimizer, drop=0.35, losses=losses)\n",
    "    \n",
    "    print('Losses', losses)"
   ]
  },
  {
   "cell_type": "code",
   "execution_count": 100,
   "metadata": {},
   "outputs": [
    {
     "name": "stdout",
     "output_type": "stream",
     "text": [
      "Entity in Σκύλλαιον : U-LOC | expected:  U-LOC\n",
      "Entity in Ἀλεξανδρείας : U-LOC | expected:  U-LOC\n",
      "Entity in Ἰωνίας : U-LOC | expected:  U-LOC\n",
      "Entity in προμήκης : U-LOC | expected:  O\n",
      "Entity in Ἔφεσον : U-LOC | expected:  U-LOC\n",
      "Entity in Ἀδρίαν : U-LOC | expected:  O\n",
      "Entity in τὸν : U-LOC | expected:  O\n",
      "Entity in τοῦ : U-LOC | expected:  O\n",
      "Entity in Πόντον : U-LOC | expected:  U-LOC\n",
      "Entity in Σαρδοῦς : U-LOC | expected:  U-LOC\n",
      "Entity in τὴν : U-LOC | expected:  O\n",
      "Entity in Μενίππου : U-LOC | expected:  U-PER\n",
      "Entity in τῇ : U-LOC | expected:  O\n",
      "Entity in ἄκρου : U-LOC | expected:  U-LOC\n",
      "Entity in τῶν : U-LOC | expected:  O\n",
      "Entity in Πόντου : U-LOC | expected:  U-LOC\n",
      "Entity in Ἴσση : U-LOC | expected:  O\n",
      "Entity in Μῆνιγξ : U-LOC | expected:  U-LOC\n",
      "Entity in Ποπουλώνιον : U-LOC | expected:  U-LOC\n",
      "Entity in Αἰλανίτου : U-LOC | expected:  U-LOC\n",
      "Entity in τὸ : U-LOC | expected:  O\n",
      "Entity in κόλπος : U-LOC | expected:  U-LOC\n",
      "Entity in Ἰκάριον : U-LOC | expected:  U-LOC\n",
      "Entity in Γάδειρα : U-LOC | expected:  O\n",
      "Entity in ὁ : U-LOC | expected:  U-PER\n",
      "Entity in Σύρτις : U-LOC | expected:  U-LOC\n",
      "Entity in Μαιῶτιν : U-LOC | expected:  O\n",
      "Entity in πέλαγος : U-LOC | expected:  U-LOC\n",
      "Entity in ↑ν, : U-LOC | expected:  O\n",
      "Entity in Λιλυβαίου : U-LOC | expected:  U-LOC\n",
      "Entity in πέλαγος : U-LOC | expected:  U-LOC\n",
      "Entity in Σιλεκίας : U-LOC | expected:  U-LOC\n",
      "Entity in πόλεως : U-LOC | expected:  U-LOC\n",
      "Entity in Ἰλλυρίδα : U-LOC | expected:  U-LOC\n",
      "Entity in Λακωνικὸς : U-LOC | expected:  U-LOC\n",
      "Entity in λιβὸς : U-LOC | expected:  O\n",
      "Entity in Ποσειδῶνος : U-LOC | expected:  O\n",
      "Entity in ἡ : U-LOC | expected:  O\n",
      "Entity in τῶν : U-LOC | expected:  O\n",
      "Entity in Ἱεροῦ : U-LOC | expected:  O\n",
      "Entity in Γυμνησίας : U-LOC | expected:  U-LOC\n",
      "Entity in ἐλάττων : U-LOC | expected:  U-LOC\n",
      "Entity in Πάτρας : U-LOC | expected:  U-LOC\n",
      "Entity in Ὑρκανία : U-LOC | expected:  U-LOC\n",
      "Entity in κόλπος : U-LOC | expected:  U-LOC\n",
      "Entity in Μῆκος : U-PER | expected:  O\n",
      "Entity in Τῆλον : U-LOC | expected:  O\n",
      "Entity in Σαλαμὶς : U-LOC | expected:  U-LOC\n",
      "Entity in ἐκβολῶν : U-LOC | expected:  O\n",
      "Entity in Κυκλάδες, : U-LOC | expected:  U-LOC\n",
      "Entity in Καρμανίας : U-LOC | expected:  U-LOC\n",
      "Entity in ὁ : U-LOC | expected:  O\n",
      "Entity in προμήκης : U-LOC | expected:  O\n",
      "Entity in Λέσβου : U-LOC | expected:  U-LOC\n",
      "Entity in ἡ : U-LOC | expected:  O\n",
      "Entity in τὸ : U-LOC | expected:  O\n",
      "Entity in Φλίον : U-LOC | expected:  U-LOC\n",
      "Entity in Φάρος : U-LOC | expected:  U-LOC\n",
      "Entity in Ταύρου : U-LOC | expected:  U-LOC\n",
      "Entity in ὁ : U-LOC | expected:  O\n",
      "Entity in ποταμοῦ : U-LOC | expected:  U-LOC\n",
      "Entity in Λιβύης : U-LOC | expected:  U-LOC\n",
      "Entity in Ἰταλίαν : U-LOC | expected:  U-LOC\n",
      "Entity in Χαλκηδόνα : U-LOC | expected:  U-LOC\n",
      "Entity in Μιλήσιος : U-LOC | expected:  U-LOC\n",
      "Entity in Ἰβηρικῷ : U-LOC | expected:  O\n",
      "Entity in Σαρδοῦς : U-LOC | expected:  O\n",
      "Entity in Βρεντεσίου : U-LOC | expected:  U-LOC\n",
      "Entity in Μερόην : U-LOC | expected:  U-LOC\n",
      "Entity in τὸ : U-LOC | expected:  O\n",
      "Entity in Κιμμέριος : U-LOC | expected:  U-LOC\n",
      "Entity in τῆς : U-LOC | expected:  O\n",
      "Entity in τὰς : U-LOC | expected:  O\n",
      "Entity in Ἀλεξάνδρειαν : U-LOC | expected:  U-LOC\n",
      "Entity in ὑπὲρ : U-LOC | expected:  U-LOC\n",
      "Entity in Μερόης : U-LOC | expected:  U-LOC\n",
      "Entity in ἐκβολῶν : U-LOC | expected:  U-LOC\n",
      "Entity in Ἡρακλείων : U-LOC | expected:  U-LOC\n",
      "Entity in νότον : U-LOC | expected:  O\n",
      "Entity in Χίον : U-LOC | expected:  U-LOC\n",
      "Entity in παρορίου : U-LOC | expected:  O\n",
      "Entity in τῶν : U-LOC | expected:  O\n",
      "Entity in Θάλεω : U-LOC | expected:  U-PER\n",
      "Entity in τὸν : U-LOC | expected:  O\n",
      "Entity in Ταινάρου : U-LOC | expected:  O\n",
      "Entity in παράλιος : U-LOC | expected:  O\n",
      "Entity in Κορινθιακὸς : U-LOC | expected:  O\n",
      "Entity in Κύπρος : U-LOC | expected:  O\n"
     ]
    }
   ],
   "source": [
    "# tests the trained model\n",
    "for item in test_data:\n",
    "    tokens = item['paragraphs'][0]['sentences'][0]['tokens'][0]\n",
    "    text = tokens['orth']\n",
    "    expected = tokens['ner']\n",
    "    \n",
    "    doc = nlp(text)\n",
    "    for ent in doc.ents:\n",
    "        print('Entity in', text, ':', ent.label_, '| expected: ', expected)"
   ]
  },
  {
   "cell_type": "code",
   "execution_count": null,
   "metadata": {},
   "outputs": [],
   "source": []
  }
 ],
 "metadata": {
  "kernelspec": {
   "display_name": "Python 3",
   "language": "python",
   "name": "python3"
  },
  "language_info": {
   "codemirror_mode": {
    "name": "ipython",
    "version": 3
   },
   "file_extension": ".py",
   "mimetype": "text/x-python",
   "name": "python",
   "nbconvert_exporter": "python",
   "pygments_lexer": "ipython3",
   "version": "3.7.2"
  }
 },
 "nbformat": 4,
 "nbformat_minor": 2
}
