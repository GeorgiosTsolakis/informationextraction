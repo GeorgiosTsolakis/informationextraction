{
 "cells": [
  {
   "cell_type": "code",
   "execution_count": 91,
   "metadata": {},
   "outputs": [],
   "source": [
    "import json\n",
    "from pprint import pprint\n",
    "import random\n",
    "import spacy"
   ]
  },
  {
   "cell_type": "code",
   "execution_count": 92,
   "metadata": {},
   "outputs": [],
   "source": [
    "# loads the training data\n",
    "train_file = open('training/json/agathemerus.json')\n",
    "data = json.load(train_file)"
   ]
  },
  {
   "cell_type": "code",
   "execution_count": 93,
   "metadata": {},
   "outputs": [
    {
     "name": "stdout",
     "output_type": "stream",
     "text": [
      "[{'id': 0,\n",
      "  'paragraphs': [{'sentences': [{'tokens': [{'ner': 'U-LOC',\n",
      "                                             'orth': 'Εὐρώπης',\n",
      "                                             'tag': '-'}]}]}]},\n",
      " {'id': 0,\n",
      "  'paragraphs': [{'sentences': [{'tokens': [{'ner': 'U-LOC',\n",
      "                                             'orth': 'Ἰόνιον',\n",
      "                                             'tag': '-'}]}]}]},\n",
      " {'id': 0,\n",
      "  'paragraphs': [{'sentences': [{'tokens': [{'ner': 'U-LOC',\n",
      "                                             'orth': 'Εὔβοια',\n",
      "                                             'tag': '-'}]}]}]}]\n"
     ]
    }
   ],
   "source": [
    "# randomises the data\n",
    "random.shuffle(data)\n",
    "pprint(data[:3])"
   ]
  },
  {
   "cell_type": "code",
   "execution_count": 94,
   "metadata": {},
   "outputs": [],
   "source": [
    "# splits the data into training and testing sets\n",
    "train_data = data[:1700]\n",
    "test_data = data[1700:]"
   ]
  },
  {
   "cell_type": "code",
   "execution_count": 95,
   "metadata": {},
   "outputs": [],
   "source": [
    "# creates a blank model of greek, it doesn't recognise the ancient greek code grc\n",
    "nlp = spacy.blank('el')\n",
    "ner = nlp.create_pipe('ner')\n",
    "nlp.add_pipe(ner)"
   ]
  },
  {
   "cell_type": "code",
   "execution_count": 96,
   "metadata": {},
   "outputs": [],
   "source": [
    "# adds the entity types we want to identify\n",
    "ner.add_label('U-LOC')\n",
    "ner.add_label('U-PER')"
   ]
  },
  {
   "cell_type": "code",
   "execution_count": 97,
   "metadata": {},
   "outputs": [
    {
     "name": "stdout",
     "output_type": "stream",
     "text": [
      "Warning: Unnamed vectors -- this won't allow multiple vectors models to be loaded. (Shape: (0, 0))\n"
     ]
    }
   ],
   "source": [
    "# initialises a pipeline for training\n",
    "optimizer = nlp.begin_training()"
   ]
  },
  {
   "cell_type": "code",
   "execution_count": 88,
   "metadata": {},
   "outputs": [
    {
     "name": "stdout",
     "output_type": "stream",
     "text": [
      "Iteration # 0\n",
      "Losses {'ner': 705.9919161181741}\n",
      "Iteration # 1\n",
      "Losses {'ner': 623.3987554933689}\n",
      "Iteration # 2\n",
      "Losses {'ner': 424.8161793689791}\n"
     ]
    }
   ],
   "source": [
    "# trains the model\n",
    "for i in range(3):\n",
    "    print('Iteration #', i)\n",
    "    \n",
    "    random.shuffle(train_data)\n",
    "    losses = {}\n",
    "    \n",
    "    for item in train_data:\n",
    "        tokens = item['paragraphs'][0]['sentences'][0]['tokens'][0]\n",
    "        # print(tokens)\n",
    "        \n",
    "        texts = tokens['orth']\n",
    "        entity = tokens['ner']\n",
    "        \n",
    "        if entity == 'O':\n",
    "            annotations = {'entities': []}\n",
    "        else:\n",
    "            annotations = {'entities': [(0, len(texts), tokens['ner'])]}\n",
    "            \n",
    "        # print(texts, annotations)\n",
    "        \n",
    "        nlp.update([texts], [annotations], sgd=optimizer, drop=0.35, losses=losses)\n",
    "    \n",
    "    print('Losses', losses)"
   ]
  },
  {
   "cell_type": "code",
   "execution_count": 90,
   "metadata": {},
   "outputs": [
    {
     "name": "stdout",
     "output_type": "stream",
     "text": [
      "Entity in Ῥόδου : U-LOC | expected:  U-LOC\n",
      "Entity in Κόρκυραν : U-LOC | expected:  U-LOC\n",
      "Entity in νεώτεροι : U-LOC | expected:  O\n",
      "Entity in καλοῦσί : U-LOC | expected:  O\n",
      "Entity in ὅσον : U-LOC | expected:  O\n",
      "Entity in Κιλικίας : U-LOC | expected:  U-LOC\n",
      "Entity in ἕως : U-LOC | expected:  O\n",
      "Entity in κόλπῳ : U-LOC | expected:  U-LOC\n",
      "Entity in τῆς : U-LOC | expected:  O\n",
      "Entity in οἰκεῖν : U-LOC | expected:  O\n",
      "Entity in Αἰθιοπίαν, : U-LOC | expected:  U-LOC\n",
      "Entity in μεγάλαι : U-LOC | expected:  O\n",
      "Entity in πνέουσιν : U-LOC | expected:  O\n",
      "Entity in Γάγγου : U-LOC | expected:  U-LOC\n",
      "Entity in Πελώρου : U-LOC | expected:  U-LOC\n",
      "Entity in τῆς : U-LOC | expected:  O\n",
      "Entity in ὄρη : U-LOC | expected:  U-LOC\n",
      "Entity in Ταύρου : U-LOC | expected:  U-LOC\n",
      "Entity in θάλασσαν : U-LOC | expected:  U-LOC\n",
      "Entity in Μαιῶτιν : U-LOC | expected:  O\n",
      "Entity in παρὰ : U-LOC | expected:  O\n",
      "Entity in ποταμοῦ : U-LOC | expected:  U-LOC\n",
      "Entity in Κάραμβιν : U-LOC | expected:  U-LOC\n",
      "Entity in Κορυναῖον : U-LOC | expected:  U-LOC\n",
      "Entity in ἕως : U-LOC | expected:  O\n",
      "Entity in περιοίκων : U-LOC | expected:  O\n",
      "Entity in τελευταῖον : U-LOC | expected:  O\n",
      "Entity in Ἴσση : U-LOC | expected:  O\n",
      "Entity in νήσοις : U-LOC | expected:  O\n",
      "Entity in Ἀσπίδα : U-LOC | expected:  U-LOC\n",
      "Entity in κώμης : U-LOC | expected:  U-LOC\n",
      "Entity in τῆς : U-LOC | expected:  O\n",
      "Entity in Στοιχάδες : U-LOC | expected:  O\n",
      "Entity in τὴν : U-LOC | expected:  O\n",
      "Entity in Σαρδῶον : U-LOC | expected:  U-LOC\n",
      "Entity in οἰκουμένη : U-LOC | expected:  O\n",
      "Entity in Εὔδοξος : U-LOC | expected:  U-PER\n",
      "Entity in Παμφυλίου : U-LOC | expected:  U-LOC\n",
      "Entity in Γάδειρα : U-LOC | expected:  O\n",
      "Entity in Προποντὶς : U-LOC | expected:  U-LOC\n",
      "Entity in Ἀστυπάλαιαν : U-LOC | expected:  U-LOC\n",
      "Entity in Φᾶσιν : U-LOC | expected:  U-LOC\n",
      "Entity in ἕως : U-LOC | expected:  O\n",
      "Entity in τὴν : U-LOC | expected:  U-LOC\n",
      "Entity in ἕως : U-LOC | expected:  O\n",
      "Entity in νῆσος : U-LOC | expected:  U-LOC\n",
      "Entity in Σάμος : U-LOC | expected:  U-LOC\n",
      "Entity in Ἰᾶπυξ, : U-LOC | expected:  O\n",
      "Entity in Ἀλεξανδρείας : U-LOC | expected:  U-LOC\n",
      "Entity in πελάγους : U-LOC | expected:  U-LOC\n",
      "Entity in θάλασσαν : U-LOC | expected:  U-LOC\n",
      "Entity in παράλιος : U-LOC | expected:  O\n",
      "Entity in Σαλαμὶς : U-LOC | expected:  U-LOC\n",
      "Entity in παρὰ : U-LOC | expected:  O\n",
      "Entity in περιόδους : U-LOC | expected:  O\n",
      "Entity in Σύρτιδος : U-LOC | expected:  U-LOC\n",
      "Entity in Λακωνικὸς : U-LOC | expected:  U-LOC\n",
      "Entity in Ποπουλώνιον : U-LOC | expected:  U-LOC\n",
      "Entity in τῆς : U-LOC | expected:  O\n",
      "Entity in Λιβύης : U-LOC | expected:  U-LOC\n",
      "Entity in Ἱσπανίαν, : U-LOC | expected:  U-LOC\n",
      "Entity in Λιγυστικῆς : U-LOC | expected:  O\n",
      "Entity in περὶ : U-LOC | expected:  O\n",
      "Entity in Καππαδοκῶν : U-LOC | expected:  U-LOC\n",
      "Entity in Λιβύης : U-LOC | expected:  U-LOC\n",
      "Entity in Εὔβοια : U-LOC | expected:  U-LOC\n",
      "Entity in Ἰκαρία : U-LOC | expected:  O\n",
      "Entity in Μάζακα : U-LOC | expected:  O\n",
      "Entity in οὖσα, : U-LOC | expected:  O\n",
      "Entity in οὖσα, : U-LOC | expected:  O\n",
      "Entity in Καρμανίας : U-LOC | expected:  U-LOC\n",
      "Entity in ἀντιπρόσωπον : U-LOC | expected:  O\n",
      "Entity in ὠκεανοῦ : U-LOC | expected:  U-LOC\n",
      "Entity in Ἀλεξανδρείας : U-LOC | expected:  U-LOC\n",
      "Entity in Αἰγαίου : U-LOC | expected:  U-LOC\n",
      "Entity in Ἀργολικὸς : U-LOC | expected:  O\n",
      "Entity in Ἱεροῦ : U-LOC | expected:  O\n",
      "Entity in τὴν : U-LOC | expected:  O\n",
      "Entity in Ἐρυθρὰν : U-LOC | expected:  O\n",
      "Entity in Πόντου : U-LOC | expected:  U-LOC\n",
      "Entity in ἄκρον, : U-LOC | expected:  U-LOC\n",
      "Entity in Βόσπορος : U-LOC | expected:  U-LOC\n",
      "Entity in τοὺς : U-LOC | expected:  O\n",
      "Entity in Μαιῶτιν : U-LOC | expected:  U-LOC\n",
      "Entity in ποταμοῦ : U-LOC | expected:  U-LOC\n",
      "Entity in Ἐρυθραῖον : U-LOC | expected:  U-LOC\n",
      "Entity in ἕως : U-LOC | expected:  O\n",
      "Entity in Μενίππου : U-LOC | expected:  U-PER\n",
      "Entity in Μῆνιγξ : U-LOC | expected:  U-LOC\n",
      "Entity in Ἀραβίαν : U-LOC | expected:  U-LOC\n",
      "Entity in μικρὰ : U-LOC | expected:  O\n",
      "Entity in Χίον : U-LOC | expected:  U-LOC\n",
      "Entity in τῆς : U-LOC | expected:  O\n",
      "Entity in Κασπίας : U-LOC | expected:  U-LOC\n",
      "Entity in Μιτυλήνην : U-LOC | expected:  O\n",
      "Entity in τῆς : U-LOC | expected:  O\n",
      "Entity in Δῆλον : U-LOC | expected:  U-LOC\n",
      "Entity in Μυριάνδρου : U-LOC | expected:  O\n",
      "Entity in Μασσαλιακῶν : U-LOC | expected:  O\n",
      "Entity in Βοιωτίαν : U-LOC | expected:  U-LOC\n",
      "Entity in τετράπολις : U-LOC | expected:  U-LOC\n",
      "Entity in Παχύνου : U-LOC | expected:  O\n",
      "Entity in πελάγους : U-LOC | expected:  U-LOC\n",
      "Entity in Λιβύης : U-LOC | expected:  U-LOC\n",
      "Entity in Ἀρκίτιν : U-LOC | expected:  U-LOC\n",
      "Entity in Μερόην : U-LOC | expected:  U-LOC\n",
      "Entity in Ἰχθὺς : U-LOC | expected:  U-LOC\n",
      "Entity in Μυριάνδρου : U-LOC | expected:  U-LOC\n",
      "Entity in Πελώρου : U-LOC | expected:  U-LOC\n",
      "Entity in ↑ν, : U-LOC | expected:  O\n",
      "Entity in Σαρδοῦς : U-LOC | expected:  O\n",
      "Entity in Πόντου : U-LOC | expected:  U-LOC\n",
      "Entity in Σύρτις : U-LOC | expected:  U-LOC\n",
      "Entity in Λιβύη : U-LOC | expected:  O\n",
      "Entity in ἄκρον : U-LOC | expected:  O\n",
      "Entity in Ἀδρίᾳ : U-LOC | expected:  U-LOC\n",
      "Entity in ὑπὲρ : U-LOC | expected:  U-LOC\n",
      "Entity in Λέσβου : U-LOC | expected:  U-LOC\n",
      "Entity in ποσον : U-LOC | expected:  O\n",
      "Entity in κόλποις : U-LOC | expected:  U-LOC\n",
      "Entity in οὖσα : U-LOC | expected:  O\n",
      "Entity in Κύθηρα : U-LOC | expected:  U-LOC\n",
      "Entity in Μελίτη, : U-LOC | expected:  U-LOC\n",
      "Entity in Τῆλον : U-LOC | expected:  O\n",
      "Entity in Αἰθιοπικῆς : U-LOC | expected:  O\n",
      "Entity in Δρέπανον : U-LOC | expected:  U-LOC\n"
     ]
    }
   ],
   "source": [
    "# tests the trained model\n",
    "for item in test_data:\n",
    "    tokens = item['paragraphs'][0]['sentences'][0]['tokens'][0]\n",
    "    text = tokens['orth']\n",
    "    expected = tokens['ner']\n",
    "    \n",
    "    doc = nlp(text)\n",
    "    for ent in doc.ents:\n",
    "        print('Entity in', text, ':', ent.label_, '| expected: ', expected)"
   ]
  },
  {
   "cell_type": "code",
   "execution_count": null,
   "metadata": {},
   "outputs": [],
   "source": []
  }
 ],
 "metadata": {
  "kernelspec": {
   "display_name": "Python 3",
   "language": "python",
   "name": "python3"
  },
  "language_info": {
   "codemirror_mode": {
    "name": "ipython",
    "version": 3
   },
   "file_extension": ".py",
   "mimetype": "text/x-python",
   "name": "python",
   "nbconvert_exporter": "python",
   "pygments_lexer": "ipython3",
   "version": "3.7.2"
  }
 },
 "nbformat": 4,
 "nbformat_minor": 2
}
