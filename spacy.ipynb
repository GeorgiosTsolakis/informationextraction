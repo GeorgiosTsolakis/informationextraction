{
 "cells": [
  {
   "cell_type": "code",
   "execution_count": 60,
   "metadata": {},
   "outputs": [],
   "source": [
    "import json\n",
    "from pprint import pprint\n",
    "import random\n",
    "import spacy\n",
    "from spacy.util import minibatch, compounding"
   ]
  },
  {
   "cell_type": "code",
   "execution_count": 44,
   "metadata": {},
   "outputs": [
    {
     "name": "stdout",
     "output_type": "stream",
     "text": [
      "[{'id': 0,\n",
      "  'paragraphs': [{'sentences': [{'tokens': [{'ner': 'U-LOC',\n",
      "                                             'orth': 'Ἀττικῆς,',\n",
      "                                             'tag': '-'}]}]}]},\n",
      " {'id': 0,\n",
      "  'paragraphs': [{'sentences': [{'tokens': [{'ner': 'O',\n",
      "                                             'orth': 'ἡ',\n",
      "                                             'tag': '-'}]}]}]},\n",
      " {'id': 0,\n",
      "  'paragraphs': [{'sentences': [{'tokens': [{'ner': 'O',\n",
      "                                             'orth': 'εἰς',\n",
      "                                             'tag': '-'}]}]}]},\n",
      " {'id': 0,\n",
      "  'paragraphs': [{'sentences': [{'tokens': [{'ner': 'U-LOC',\n",
      "                                             'orth': 'πελάγει',\n",
      "                                             'tag': '-'}]}]}]},\n",
      " {'id': 0,\n",
      "  'paragraphs': [{'sentences': [{'tokens': [{'ner': 'O',\n",
      "                                             'orth': 'ὧν',\n",
      "                                             'tag': '-'}]}]}]},\n",
      " {'id': 0,\n",
      "  'paragraphs': [{'sentences': [{'tokens': [{'ner': 'U-LOC',\n",
      "                                             'orth': 'Γάδειρα',\n",
      "                                             'tag': '-'}]}]}]},\n",
      " {'id': 0,\n",
      "  'paragraphs': [{'sentences': [{'tokens': [{'ner': 'O',\n",
      "                                             'orth': 'ἀπαρκτίου',\n",
      "                                             'tag': '-'}]}]}]},\n",
      " {'id': 0,\n",
      "  'paragraphs': [{'sentences': [{'tokens': [{'ner': 'U-LOC',\n",
      "                                             'orth': 'Κανώβου',\n",
      "                                             'tag': '-'}]}]}]},\n",
      " {'id': 0,\n",
      "  'paragraphs': [{'sentences': [{'tokens': [{'ner': 'O',\n",
      "                                             'orth': 'Πελοποννήσου',\n",
      "                                             'tag': '-'}]}]}]},\n",
      " {'id': 0,\n",
      "  'paragraphs': [{'sentences': [{'tokens': [{'ner': 'O',\n",
      "                                             'orth': 'σταδ',\n",
      "                                             'tag': '-'}]}]}]}]\n"
     ]
    }
   ],
   "source": [
    "train_file = open('training/json/agathemerus.json')\n",
    "data = json.load(train_file)\n",
    "random.shuffle(data)\n",
    "pprint(data[:10])"
   ]
  },
  {
   "cell_type": "code",
   "execution_count": 40,
   "metadata": {},
   "outputs": [],
   "source": [
    "train_data = data[:1500]\n",
    "test_data = data[1500:]"
   ]
  },
  {
   "cell_type": "code",
   "execution_count": 56,
   "metadata": {},
   "outputs": [],
   "source": [
    "# creates a blank model of greek, it doesn't recognise the ancient greek code grc\n",
    "nlp = spacy.blank('el')\n",
    "ner = nlp.create_pipe('ner')\n",
    "nlp.add_pipe(ner)"
   ]
  },
  {
   "cell_type": "code",
   "execution_count": 57,
   "metadata": {},
   "outputs": [],
   "source": [
    "ner.add_label('U-LOC')\n",
    "ner.add_label('U-PER')"
   ]
  },
  {
   "cell_type": "code",
   "execution_count": 58,
   "metadata": {},
   "outputs": [
    {
     "name": "stdout",
     "output_type": "stream",
     "text": [
      "Warning: Unnamed vectors -- this won't allow multiple vectors models to be loaded. (Shape: (0, 0))\n"
     ]
    }
   ],
   "source": [
    "# initialises a pip for training\n",
    "# nlp.vocab.vectors.name = 'prosopography_pretrained_vectors'\n",
    "optimizer = nlp.begin_training()"
   ]
  },
  {
   "cell_type": "code",
   "execution_count": 59,
   "metadata": {},
   "outputs": [
    {
     "name": "stdout",
     "output_type": "stream",
     "text": [
      "['ner']\n"
     ]
    }
   ],
   "source": [
    "print(nlp.pipe_names)"
   ]
  },
  {
   "cell_type": "code",
   "execution_count": 80,
   "metadata": {},
   "outputs": [
    {
     "name": "stdout",
     "output_type": "stream",
     "text": [
      "Iteration # 0\n",
      "Losses {'ner': 392.379576995315}\n"
     ]
    }
   ],
   "source": [
    "for i in range(1):\n",
    "    print('Iteration #', i)\n",
    "    \n",
    "    random.shuffle(train_data)\n",
    "    losses = {}\n",
    "    \n",
    "    for item in train_data:\n",
    "        tokens = item['paragraphs'][0]['sentences'][0]['tokens'][0]\n",
    "        # print(tokens)\n",
    "        \n",
    "        texts = tokens['orth']\n",
    "        entity = tokens['ner']\n",
    "        \n",
    "        if entity == 'O':\n",
    "            annotations = {'entities': []}\n",
    "        else:\n",
    "            annotations = {'entities': [(0, len(texts), tokens['ner'])]}\n",
    "            \n",
    "        # print(texts, annotations)\n",
    "        \n",
    "        nlp.update([texts], [annotations], sgd=optimizer, losses=losses)\n",
    "    \n",
    "    print('Losses', losses)"
   ]
  },
  {
   "cell_type": "code",
   "execution_count": 81,
   "metadata": {},
   "outputs": [
    {
     "name": "stdout",
     "output_type": "stream",
     "text": [
      "Entity in Βοιωτίαν : U-LOC | expected:  U-LOC\n",
      "Entity in Στοιχάδες : U-LOC | expected:  O\n",
      "Entity in Ἰσθμοῦ : U-LOC | expected:  U-LOC\n",
      "Entity in Γάγγου : U-LOC | expected:  O\n",
      "Entity in Ἰλλυρίδα : U-LOC | expected:  U-LOC\n",
      "Entity in λίμνης, : U-LOC | expected:  U-LOC\n",
      "Entity in Εὐρώπης : U-LOC | expected:  U-LOC\n",
      "Entity in Σαρδῶον : U-LOC | expected:  U-LOC\n",
      "Entity in Εὐρώπης : U-LOC | expected:  U-LOC\n",
      "Entity in Μιλήσιος : U-LOC | expected:  U-LOC\n",
      "Entity in Σαρδὼ : U-LOC | expected:  U-LOC\n",
      "Entity in ῾Ρόδον : U-LOC | expected:  O\n",
      "Entity in Ὅροι : U-LOC | expected:  O\n",
      "Entity in Ἐκλήθησαν : U-LOC | expected:  O\n",
      "Entity in μακρὰ : U-LOC | expected:  O\n",
      "Entity in Κανωβικοῦ : U-LOC | expected:  U-LOC\n",
      "Entity in Σύρτεις : U-LOC | expected:  U-LOC\n",
      "Entity in ↑ν, : U-LOC | expected:  O\n",
      "Entity in Θοάντιον : U-LOC | expected:  U-LOC\n",
      "Entity in ποταμοῦ : U-LOC | expected:  O\n",
      "Entity in Λιβυκοῦ : U-LOC | expected:  U-LOC\n",
      "Entity in Λιγυστικὸν : U-LOC | expected:  U-LOC\n",
      "Entity in μικρᾶς : U-LOC | expected:  U-LOC\n",
      "Entity in Τένεδον : U-LOC | expected:  U-LOC\n",
      "Entity in μείζων : U-LOC | expected:  O\n",
      "Entity in Πελωριάδα : U-LOC | expected:  U-LOC\n",
      "Entity in Πελοποννήσου : U-LOC | expected:  O\n",
      "Entity in πελάγους : U-LOC | expected:  U-LOC\n",
      "Entity in Ἀλεξάνδρειαν : U-LOC | expected:  U-LOC\n",
      "Entity in Πάφου : U-LOC | expected:  O\n",
      "Entity in Ἰβηρικὸν : U-LOC | expected:  U-LOC\n",
      "Entity in ὑπὲρ : U-LOC | expected:  U-LOC\n",
      "Entity in Κῶ : U-LOC | expected:  U-LOC\n",
      "Entity in μεγάλης : U-LOC | expected:  U-LOC\n",
      "Entity in Λέσβιος : U-LOC | expected:  U-LOC\n",
      "Entity in Μενίππου : U-LOC | expected:  U-PER\n",
      "Entity in Φᾶσιν : U-LOC | expected:  U-LOC\n",
      "Entity in Σικελικὸν : U-LOC | expected:  U-LOC\n",
      "Entity in Εὐρώπης : U-LOC | expected:  U-LOC\n",
      "Entity in Εὔβοια : U-LOC | expected:  U-LOC\n",
      "Entity in Βαλιαρίας : U-LOC | expected:  O\n",
      "Entity in Γυμνασίων : U-LOC | expected:  U-LOC\n",
      "Entity in Ταίναρον : U-LOC | expected:  U-LOC\n",
      "Entity in Μήνιγγα : U-LOC | expected:  U-LOC\n",
      "Entity in ὑπὲρ : U-LOC | expected:  U-LOC\n",
      "Entity in Ἄργεννον : U-LOC | expected:  U-LOC\n",
      "Entity in Ἀσία : U-LOC | expected:  U-LOC\n",
      "Entity in Μαζάκων : U-LOC | expected:  U-LOC\n",
      "Entity in Κορυναῖον : U-LOC | expected:  U-LOC\n",
      "Entity in Μυριάνδρου : U-LOC | expected:  O\n",
      "Entity in Κορινθιακὸν : U-LOC | expected:  U-LOC\n",
      "Entity in ἡμικύκλιον, : U-LOC | expected:  O\n",
      "Entity in Κανώβου : U-LOC | expected:  U-LOC\n",
      "Entity in ἰσθμὸν : U-LOC | expected:  U-LOC\n",
      "Entity in Πόντος : U-LOC | expected:  O\n",
      "Entity in Προποντὶς : U-LOC | expected:  U-LOC\n",
      "Entity in Ἰόνιον : U-LOC | expected:  U-LOC\n",
      "Entity in Ταινάρου : U-LOC | expected:  O\n",
      "Entity in Τυρσηνικοῦ : U-LOC | expected:  U-LOC\n",
      "Entity in Σάμος : U-LOC | expected:  U-LOC\n",
      "Entity in Τυρρηνικὸν : U-LOC | expected:  U-LOC\n",
      "Entity in Γάδειρα : U-LOC | expected:  O\n",
      "Entity in Δικαίαρχος : U-LOC | expected:  O\n",
      "Entity in Γάγγου : U-LOC | expected:  U-LOC\n",
      "Entity in Λωτοφαγῖτιν : U-LOC | expected:  U-LOC\n",
      "Entity in Ἰκαρία : U-LOC | expected:  U-LOC\n",
      "Entity in λαβόντες : U-LOC | expected:  O\n",
      "Entity in Παχύνου : U-LOC | expected:  O\n",
      "Entity in Ἀραβίας : U-LOC | expected:  U-LOC\n",
      "Entity in λιβὸς : U-LOC | expected:  O\n",
      "Entity in Ἀσίας : U-LOC | expected:  O\n",
      "Entity in Ἰβηρικῷ : U-LOC | expected:  O\n",
      "Entity in Σκυλλαίῳ : U-LOC | expected:  U-LOC\n",
      "Entity in μυχοῦ : U-LOC | expected:  U-LOC\n",
      "Entity in Γάδειρα : U-LOC | expected:  O\n",
      "Entity in Κασπίων : U-LOC | expected:  U-LOC\n",
      "Entity in ἆσσον : U-LOC | expected:  O\n",
      "Entity in Μασσαλιακῶν : U-LOC | expected:  O\n",
      "Entity in Ἰνδοῦ : U-LOC | expected:  U-LOC\n",
      "Entity in Στηλῶν : U-LOC | expected:  O\n",
      "Entity in καικίας, : U-LOC | expected:  O\n",
      "Entity in ἄπειροί : U-LOC | expected:  O\n",
      "Entity in Τανάιδος : U-LOC | expected:  U-LOC\n",
      "Entity in θάλασσαν. : U-LOC | expected:  U-LOC\n",
      "Entity in Λιβυκόν, : U-LOC | expected:  U-LOC\n",
      "Entity in Ἰταλίαν : U-LOC | expected:  U-LOC\n",
      "Entity in ἄγνωστος : U-LOC | expected:  O\n",
      "Entity in Ἰᾶπυξ, : U-LOC | expected:  O\n",
      "Entity in Κύπρου : U-LOC | expected:  U-LOC\n",
      "Entity in Αἰλανίτου : U-LOC | expected:  U-LOC\n",
      "Entity in Ἄμπελον : U-LOC | expected:  U-LOC\n",
      "Entity in Κάραλιν : U-LOC | expected:  O\n",
      "Entity in ἐγγὺς : U-LOC | expected:  O\n",
      "Entity in Βόσπορος : U-LOC | expected:  U-LOC\n",
      "Entity in πέλαγος : U-LOC | expected:  U-LOC\n",
      "Entity in Κῴας : U-LOC | expected:  O\n",
      "Entity in Βοιωτίδα : U-LOC | expected:  U-LOC\n",
      "Entity in Αἰθιοπίαν, : U-LOC | expected:  U-LOC\n",
      "Entity in Παμφύλιον : U-LOC | expected:  O\n",
      "Entity in ἄκρον : U-LOC | expected:  U-LOC\n",
      "Entity in Λιβύης : U-LOC | expected:  U-LOC\n",
      "Entity in Δρέπανον : U-LOC | expected:  U-LOC\n"
     ]
    }
   ],
   "source": [
    "# test the trained model\n",
    "for item in test_data:\n",
    "    tokens = item['paragraphs'][0]['sentences'][0]['tokens'][0]\n",
    "    text = tokens['orth']\n",
    "    expected = tokens['ner']\n",
    "    \n",
    "    doc = nlp(text)\n",
    "    for ent in doc.ents:\n",
    "        print('Entity in', text, ':', ent.label_, '| expected: ', expected)"
   ]
  },
  {
   "cell_type": "code",
   "execution_count": null,
   "metadata": {},
   "outputs": [],
   "source": []
  }
 ],
 "metadata": {
  "kernelspec": {
   "display_name": "Python 3",
   "language": "python",
   "name": "python3"
  },
  "language_info": {
   "codemirror_mode": {
    "name": "ipython",
    "version": 3
   },
   "file_extension": ".py",
   "mimetype": "text/x-python",
   "name": "python",
   "nbconvert_exporter": "python",
   "pygments_lexer": "ipython3",
   "version": "3.7.2"
  }
 },
 "nbformat": 4,
 "nbformat_minor": 2
}
